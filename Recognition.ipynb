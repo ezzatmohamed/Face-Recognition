{
 "cells": [
  {
   "cell_type": "code",
   "execution_count": 1,
   "metadata": {},
   "outputs": [],
   "source": [
    "import numpy as np\n",
    "import cv2\n",
    "import os\n",
    "import math\n",
    "import matplotlib.pyplot as plt"
   ]
  },
  {
   "cell_type": "code",
   "execution_count": 2,
   "metadata": {},
   "outputs": [],
   "source": [
    "def face_detection(image):\n",
    "    image_gray = cv2.cvtColor(image, cv2.COLOR_BGR2GRAY)\n",
    "    haar_classifier = cv2.CascadeClassifier('opencv/data/haarcascades/haarcascade_frontalface_default.xml')\n",
    "\n",
    "    face = haar_classifier.detectMultiScale(image_gray, scaleFactor=1.3, minNeighbors=7)\n",
    "    \n",
    "    if len(face) != 0:\n",
    "        (x,y,w,h) = face[0]\n",
    "        \n",
    "        dim = (100,100)\n",
    "        img = image_gray[y:y+w, x:x+h]\n",
    "        resized = cv2.resize(img, dim, interpolation = cv2.INTER_AREA)\n",
    "        return resized, face[0]\n",
    "    else:\n",
    "        return -1"
   ]
  },
  {
   "cell_type": "code",
   "execution_count": 3,
   "metadata": {},
   "outputs": [],
   "source": [
    "# Apply LBP Algorithm on a block of the image\n",
    "def get_lbp_hist(grayscale_img):\n",
    "    \n",
    "    dim = grayscale_img.shape\n",
    "    \n",
    "    lbp = np.zeros(256)\n",
    "   \n",
    "    for i in range(1,dim[0]-1):\n",
    "        for j in range(1,dim[1]-1):\n",
    "            \n",
    "            pixel = grayscale_img[i][j]\n",
    "            neighbours = np.concatenate([grayscale_img[i-1][j-1:j+2] , [ grayscale_img[i][j+1] ] , grayscale_img[i+1][j-1:j+2][::-1],[grayscale_img[i][j-1]]] )\n",
    "            neighbours[ neighbours <= pixel] = '0'\n",
    "            neighbours[ neighbours > pixel]  = '1'\n",
    "            binary = ''.join( str(c) for c in neighbours )\n",
    "            \n",
    "            binary = int(binary,2)\n",
    "            lbp[binary]+=1\n",
    "            \n",
    "    return lbp # <LBP histogram which is a list of 256 numbers>\n",
    "\n",
    "\n",
    ""
   ]
  },
  {
   "cell_type": "code",
   "execution_count": 4,
   "metadata": {},
   "outputs": [],
   "source": [
    "# Segment the image into 7x7 blocks,apply LBP algorithm on them, then Concatente all hitograms into one\n",
    "def segment_img(img):\n",
    "    dim = img.shape\n",
    "    patch_width  = 7\n",
    "    patch_height = 7\n",
    "    \n",
    "    \n",
    "    histograms = []\n",
    "    \n",
    "    for x in range(0,dim[0],patch_width):\n",
    "        for y in range(0,dim[1],patch_height):\n",
    "        \n",
    "            if(patch_width+x >= dim[0] or patch_width+y >= dim[1] ):\n",
    "                continue\n",
    "            patch = img[x:x+patch_width,y:y+patch_height]\n",
    "    \n",
    "            histogram = get_lbp_hist(patch)\n",
    "            histograms.append(histogram)\n",
    "    \n",
    "    histo = np.concatenate( [ h for h in histograms ] )\n",
    "    \n",
    "    return histo"
   ]
  },
  {
   "cell_type": "code",
   "execution_count": 5,
   "metadata": {},
   "outputs": [
    {
     "ename": "FileNotFoundError",
     "evalue": "[WinError 3] The system cannot find the path specified: 'training'",
     "output_type": "error",
     "traceback": [
      "\u001b[1;31m---------------------------------------------------------------------------\u001b[0m",
      "\u001b[1;31mFileNotFoundError\u001b[0m                         Traceback (most recent call last)",
      "\u001b[1;32m<ipython-input-5-a92583763ee7>\u001b[0m in \u001b[0;36m<module>\u001b[1;34m\u001b[0m\n\u001b[0;32m     23\u001b[0m             \u001b[0mtrain_hist\u001b[0m\u001b[1;33m.\u001b[0m\u001b[0mappend\u001b[0m\u001b[1;33m(\u001b[0m\u001b[0mhisto\u001b[0m\u001b[1;33m)\u001b[0m\u001b[1;33m\u001b[0m\u001b[1;33m\u001b[0m\u001b[0m\n\u001b[0;32m     24\u001b[0m             \u001b[0mtrain_labels\u001b[0m\u001b[1;33m.\u001b[0m\u001b[0mappend\u001b[0m\u001b[1;33m(\u001b[0m\u001b[0mperson\u001b[0m\u001b[1;33m)\u001b[0m\u001b[1;33m\u001b[0m\u001b[1;33m\u001b[0m\u001b[0m\n\u001b[1;32m---> 25\u001b[1;33m \u001b[0mtrain_data\u001b[0m\u001b[1;33m(\u001b[0m\u001b[1;33m)\u001b[0m\u001b[1;33m\u001b[0m\u001b[1;33m\u001b[0m\u001b[0m\n\u001b[0m",
      "\u001b[1;32m<ipython-input-5-a92583763ee7>\u001b[0m in \u001b[0;36mtrain_data\u001b[1;34m()\u001b[0m\n\u001b[0;32m      8\u001b[0m \u001b[1;33m\u001b[0m\u001b[0m\n\u001b[0;32m      9\u001b[0m \u001b[1;33m\u001b[0m\u001b[0m\n\u001b[1;32m---> 10\u001b[1;33m     \u001b[1;32mfor\u001b[0m \u001b[0mperson\u001b[0m \u001b[1;32min\u001b[0m \u001b[0mos\u001b[0m\u001b[1;33m.\u001b[0m\u001b[0mlistdir\u001b[0m\u001b[1;33m(\u001b[0m\u001b[1;34m'training'\u001b[0m\u001b[1;33m)\u001b[0m\u001b[1;33m:\u001b[0m\u001b[1;33m\u001b[0m\u001b[1;33m\u001b[0m\u001b[0m\n\u001b[0m\u001b[0;32m     11\u001b[0m \u001b[1;33m\u001b[0m\u001b[0m\n\u001b[0;32m     12\u001b[0m         \u001b[0mclasses\u001b[0m\u001b[1;33m.\u001b[0m\u001b[0mappend\u001b[0m\u001b[1;33m(\u001b[0m\u001b[0mperson\u001b[0m\u001b[1;33m)\u001b[0m\u001b[1;33m\u001b[0m\u001b[1;33m\u001b[0m\u001b[0m\n",
      "\u001b[1;31mFileNotFoundError\u001b[0m: [WinError 3] The system cannot find the path specified: 'training'"
     ]
    }
   ],
   "source": [
    "# Training on images for \"tom\" and \"clinton\"\n",
    "\n",
    "classes = []\n",
    "train_hist  = []\n",
    "train_labels = []\n",
    "\n",
    "def train_data():\n",
    "    \n",
    "    \n",
    "    for person in os.listdir('training'):\n",
    "        \n",
    "        classes.append(person)\n",
    "        \n",
    "        for image in os.listdir('training/'+person):\n",
    "            img_path = 'training/'+person+'/'+image\n",
    "            img = cv2.imread(img_path)\n",
    "            result= face_detection(img)\n",
    "            if result == -1:\n",
    "                continue\n",
    "            else:\n",
    "                img = result[0]\n",
    "            histo = segment_img(img)\n",
    "            train_hist.append(histo)\n",
    "            train_labels.append(person)\n",
    "train_data()"
   ]
  },
  {
   "cell_type": "code",
   "execution_count": 0,
   "metadata": {},
   "outputs": [],
   "source": [
    "#print(train_labels)\n",
    "#print ( len(train_hist)  )"
   ]
  },
  {
   "cell_type": "code",
   "execution_count": 0,
   "metadata": {},
   "outputs": [],
   "source": [
    "# Apply Nearest Neighbour Algorithm for test image \n",
    "def classify(img,face=-1):\n",
    "    \n",
    "    \n",
    "    if face == -1:\n",
    "        img,_ = face_detection(img)\n",
    "      \n",
    "    test_hist = segment_img(img)\n",
    "    \n",
    "    \n",
    "    mini_dist  = 1000000\n",
    "    mini_class = -1\n",
    "    \n",
    "    index = np.argmin(np.sum(np.abs(train_hist[:] - test_hist),axis=1))\n",
    "    \n",
    "    #if mini_dist > 5500:\n",
    "    #    return -1\n",
    "    \n",
    "    mini_class = train_labels[index]\n",
    "    return mini_class"
   ]
  },
  {
   "cell_type": "code",
   "execution_count": 0,
   "metadata": {},
   "outputs": [],
   "source": [
    "def test_img(img,face=-1):\n",
    "\n",
    "    c = classify(img,face)    \n",
    "    if c != -1:\n",
    "        return c\n",
    "    else:\n",
    "        return \"No Match\"\n",
    "    "
   ]
  },
  {
   "cell_type": "code",
   "execution_count": 0,
   "metadata": {},
   "outputs": [],
   "source": [
    "cap = cv2.VideoCapture(0) \n",
    "\n",
    "while 1: \n",
    "    ret, img = cap.read()     \n",
    "    res = face_detection(img)\n",
    "\n",
    "    if res != -1:\n",
    "        img2 = res[0]\n",
    "        face = res[1]\n",
    "        (x,y,w,h) = face\n",
    "        \n",
    "        c = test_img(img2,1)\n",
    "        \n",
    "        img = cv2.rectangle(img, (x,y), (x+w,y+h), (255,0,0), 2)\n",
    "        img = cv2.putText(img, c, (x,y), cv2.FONT_HERSHEY_PLAIN, 2.5, (0, 0, 255), 2)\n",
    "    \n",
    "    cv2.imshow('Face Recognition',img) \n",
    "    \n",
    "    k = cv2.waitKey(30) & 0xff\n",
    "    if k == 27: \n",
    "        break\n",
    "cap.release() \n",
    "cv2.destroyAllWindows() "
   ]
  },
  {
   "cell_type": "code",
   "execution_count": 0,
   "metadata": {},
   "outputs": [],
   "source": [
    "#img = cv2.imread('test/16.jpg')\n",
    "#test_img(img)"
   ]
  },
  {
   "cell_type": "code",
   "execution_count": 0,
   "metadata": {},
   "outputs": [],
   "source": [
    "#train = np.array([[1,2,3],[4,5,6],[7,8,9]])\n",
    "#test = np.array([5,5,5])\n",
    "#res = np.sum(np.abs(train[:] - test),axis=1)\n",
    "#print(np.argmin(res))\n",
    "#grayscale_img = [[1,2,3],[4,5,6],[7,8,9]]\n",
    "#i=1\n",
    "#j=1\n",
    "#pixel = grayscale_img[i][j]\n",
    "            \n",
    "#neighbours = np.concatenate([grayscale_img[i-1][j-1:j+2] , [ grayscale_img[i][j+1] ] , grayscale_img[i+1][j-1:j+2][::-1],[grayscale_img[i][j-1]] ])\n",
    "#conc = np.concatenate( [grayscale_img[i-1][j-1:j+2], [grayscale_img[i][j+1]]] )\n",
    "\n",
    "#print(neighbours)\n",
    "#neighbours[ neighbours <= pixel] = str(0)\n",
    "#neighbours[ neighbours > pixel] = str(1)\n",
    "#binary = ''.join( str(c) for c in neighbours )\n",
    "#binary = int(binary,2)\n",
    "#binary\n",
    "\n",
    "#arr = [np.array([1,2,3]),np.array([4,5,6]),np.array([7,8,9]) ]\n",
    "\n",
    "#conc = np.concatenate([ x for x in arr ] )\n",
    "\n",
    "#print(conc)"
   ]
  }
 ],
 "metadata": {
  "kernelspec": {
   "display_name": "Python 3",
   "language": "python",
   "name": "python3"
  },
  "language_info": {
   "codemirror_mode": {
    "name": "ipython",
    "version": 3
   },
   "file_extension": ".py",
   "mimetype": "text/x-python",
   "name": "python",
   "nbconvert_exporter": "python",
   "pygments_lexer": "ipython3",
   "version": "3.7.3"
  }
 },
 "nbformat": 4,
 "nbformat_minor": 2
}